{
 "cells": [
  {
   "cell_type": "code",
   "execution_count": 6,
   "metadata": {},
   "outputs": [
    {
     "name": "stdout",
     "output_type": "stream",
     "text": [
      "Extracted /Users/rmn/repos/etl_capstone_project/airflow/dags/finalassignment/staging/tolldata.tgz to /Users/rmn/repos/etl_capstone_project/airflow/dags/finalassignment/staging/tolldata\n"
     ]
    }
   ],
   "source": [
    "from datetime import datetime, timedelta\n",
    "from pathlib import Path\n",
    "import tarfile\n",
    "\n",
    "project_path = Path.home() / \"repos\" / \"etl_capstone_project\" / \"airflow\" / \"dags\" / \"finalassignment\"\n",
    "\n",
    "if not project_path.exists():\n",
    "    project_path = Path(\"/home/project/airflow/dags/finalassignment\")\n",
    "    assert project_path.exists(), \"no valid project path exists\"\n",
    "\n",
    "def unzip_data() -> None:\n",
    "    \"\"\"\n",
    "    Unzips .tgz files in the 'staging' directory of the project path.\n",
    "    Extracts contents to a directory named after each tar file (without extension).\n",
    "    \"\"\"\n",
    "    staging_path = project_path / \"staging\"\n",
    "    tar_files = staging_path.glob(\"*.tgz\")\n",
    "    \n",
    "    for tgz_file in tar_files:\n",
    "        extract_path = staging_path / tgz_file.stem\n",
    "        with tarfile.open(tgz_file, \"r:gz\") as tar:\n",
    "            tar.extractall(path=extract_path)\n",
    "            print(f\"Extracted {tgz_file} to {extract_path}\")\n",
    "\n",
    "unzip_data()\n"
   ]
  }
 ],
 "metadata": {
  "kernelspec": {
   "display_name": "Python 3",
   "language": "python",
   "name": "python3"
  },
  "language_info": {
   "codemirror_mode": {
    "name": "ipython",
    "version": 3
   },
   "file_extension": ".py",
   "mimetype": "text/x-python",
   "name": "python",
   "nbconvert_exporter": "python",
   "pygments_lexer": "ipython3",
   "version": "3.11.4"
  }
 },
 "nbformat": 4,
 "nbformat_minor": 2
}
